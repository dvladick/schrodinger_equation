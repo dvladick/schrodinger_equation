{
  "nbformat": 4,
  "nbformat_minor": 0,
  "metadata": {
    "colab": {
      "provenance": [],
      "gpuType": "T4"
    },
    "kernelspec": {
      "name": "python3",
      "display_name": "Python 3"
    },
    "language_info": {
      "name": "python"
    },
    "accelerator": "GPU"
  },
  "cells": [
    {
      "cell_type": "code",
      "execution_count": 1,
      "metadata": {
        "id": "tCN4trsYVStP"
      },
      "outputs": [],
      "source": [
        "import locale\n",
        "locale.getpreferredencoding = lambda: \"UTF-8\"\n",
        "\n",
        "import cupy as cp\n",
        "import cupyx\n",
        "import cupyx.scipy.sparse.linalg\n",
        "import numpy as np\n",
        "import time\n",
        "import timeit\n",
        "import matplotlib.pyplot as plt\n",
        "from tqdm import tqdm"
      ]
    },
    {
      "cell_type": "code",
      "source": [
        "L = 30\n",
        "N_x = 10000\n",
        "N_t = 1000\n",
        "x = cp.linspace(-L, L, N_x)\n",
        "t = cp.linspace(0, 10, N_t)\n",
        "dt = t[1] - t[0]\n",
        "dx = x[1] - x[0]\n",
        "\n",
        "p_0 = 10\n",
        "x_0 = 0\n",
        "sigma_x = 1\n",
        "psi_0 = cp.exp(-(x-x_0)**2 / (2 * sigma_x ** 2)) * cp.exp(+1j*p_0*x)\n",
        "norm = cp.sqrt(cp.sum(cp.absolute(psi_0) ** 2) * dx)\n",
        "psi_0 = psi_0 / norm\n",
        "\n",
        "psi = cp.zeros((N_x, N_t), dtype=cp.complex64)\n",
        "psi[:, 0] = psi_0\n",
        "\n",
        "\n",
        "V = x ** 2 / 2"
      ],
      "metadata": {
        "id": "CPO_P8WHVsUr"
      },
      "execution_count": 2,
      "outputs": []
    },
    {
      "cell_type": "code",
      "source": [
        "def time_step(psi_0, LHS, RHS):\n",
        "  psi_0 = cupyx.scipy.sparse.linalg.spsolve(LHS, RHS.dot(psi_0))\n",
        "  norm = cp.sum(cp.absolute(psi_0) ** 2) * dx\n",
        "  psi_0 = psi_0 / cp.sqrt(norm)"
      ],
      "metadata": {
        "id": "TwZFJ4c7V8U0"
      },
      "execution_count": 3,
      "outputs": []
    },
    {
      "cell_type": "code",
      "source": [
        "L = 30\n",
        "N_x = [10 ** i for i in range(2, 7)]\n",
        "N_t = 1000\n",
        "time_gpu = []\n",
        "for n in tqdm(N_x):\n",
        "  x = cp.linspace(-L, L, n)\n",
        "  t = cp.linspace(0, 10, N_t)\n",
        "  dt = t[1] - t[0]\n",
        "  dx = x[1] - x[0]\n",
        "  psi_0 = cp.exp(-(x-x_0)**2 / (2 * sigma_x ** 2)) * cp.exp(+1j*p_0*x)\n",
        "  norm = cp.sqrt(cp.sum(cp.absolute(psi_0) ** 2) * dx)\n",
        "  psi_0 = psi_0 / norm\n",
        "  gamma = (1j / 4) * (dt / dx ** 2)\n",
        "  V = x ** 2 / 2\n",
        "  RHS = cupyx.scipy.sparse.diags([[gamma]*(n-1), 1-2*gamma-1j*dt*V/2, [gamma]*(n-1)], offsets=[-1, 0, 1], shape=(n, n)).tocsr()\n",
        "  LHS = cupyx.scipy.sparse.diags([[-gamma]*(n-1), 1+2*gamma+1j*dt*V/2, [-gamma]*(n-1)], offsets=[-1, 0, 1], shape=(n, n)).tocsr()\n",
        "  time0 = timeit.timeit(lambda: time_step(psi_0, LHS, RHS), number=100)\n",
        "  time_gpu.append(time0)"
      ],
      "metadata": {
        "id": "sPzmlNkoNG6H"
      },
      "execution_count": null,
      "outputs": []
    },
    {
      "cell_type": "code",
      "source": [
        "time_gpu"
      ],
      "metadata": {
        "colab": {
          "base_uri": "https://localhost:8080/"
        },
        "id": "mT8gEhavZqGy",
        "outputId": "9f9138d7-73b4-4409-93a1-62b5e865a9ad"
      },
      "execution_count": 5,
      "outputs": [
        {
          "output_type": "execute_result",
          "data": {
            "text/plain": [
              "[0.5025563629997123, 2.207509797000057, 21.499866512000153, 217.3448648170006]"
            ]
          },
          "metadata": {},
          "execution_count": 5
        }
      ]
    },
    {
      "cell_type": "code",
      "source": [
        "def time_step(psi_0, LHS, RHS):\n",
        "  psi_0 = cp.linalg.solve(LHS, RHS.dot(psi_0))\n",
        "  norm = cp.sum(cp.absolute(psi_0) ** 2) * dx\n",
        "  psi_0 = psi_0 / cp.sqrt(norm)\n",
        "\n",
        "\n",
        "L = 30\n",
        "N_x = [10 ** i for i in range(2, 5)]\n",
        "N_t = 1000\n",
        "time_gpu = []\n",
        "for n in tqdm(N_x):\n",
        "  x = cp.linspace(-L, L, n)\n",
        "  t = cp.linspace(0, 10, N_t)\n",
        "  dt = t[1] - t[0]\n",
        "  dx = x[1] - x[0]\n",
        "  psi_0 = cp.exp(-(x-x_0)**2 / (2 * sigma_x ** 2)) * cp.exp(+1j*p_0*x)\n",
        "  norm = cp.sqrt(cp.sum(cp.absolute(psi_0) ** 2) * dx)\n",
        "  psi_0 = psi_0 / norm\n",
        "  gamma = (1j / 4) * (dt / dx ** 2)\n",
        "  V = x ** 2 / 2\n",
        "  RHS = cp.diag(1-2*gamma-1j*dt*V/2) + cp.diag(cp.array([gamma]*(n-1)), 1) + cp.diag(cp.array([gamma]*(n-1)), -1)\n",
        "  LHS = cp.diag(1+2*gamma+1j*dt*V/2) + cp.diag(cp.array([-gamma]*(n-1)), 1) + cp.diag(cp.array([-gamma]*(n-1)), -1)\n",
        "  time0 = timeit.timeit(lambda: time_step(psi_0, LHS, RHS), number=100)\n",
        "  time_gpu.append(time0)"
      ],
      "metadata": {
        "colab": {
          "base_uri": "https://localhost:8080/"
        },
        "id": "ubnw5RtieLgc",
        "outputId": "115f7c21-8b6b-42e3-9ef0-3603711dbb9d"
      },
      "execution_count": 10,
      "outputs": [
        {
          "output_type": "stream",
          "name": "stderr",
          "text": [
            "100%|██████████| 3/3 [18:16<00:00, 365.60s/it]\n"
          ]
        }
      ]
    },
    {
      "cell_type": "code",
      "source": [
        "time_gpu"
      ],
      "metadata": {
        "colab": {
          "base_uri": "https://localhost:8080/"
        },
        "id": "2E_QqQXwjT0u",
        "outputId": "6279e373-3cc1-4feb-a8b5-a7415901d491"
      },
      "execution_count": 11,
      "outputs": [
        {
          "output_type": "execute_result",
          "data": {
            "text/plain": [
              "[0.06827249900015886, 1.9226194129996657, 1094.386678797]"
            ]
          },
          "metadata": {},
          "execution_count": 11
        }
      ]
    },
    {
      "cell_type": "code",
      "source": [],
      "metadata": {
        "id": "NmiC1XqXpG69"
      },
      "execution_count": null,
      "outputs": []
    }
  ]
}